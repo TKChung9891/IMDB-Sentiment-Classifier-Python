{
 "cells": [
  {
   "cell_type": "markdown",
   "metadata": {},
   "source": [
    "### IMDB Dataset Classifier: ML Algorithms"
   ]
  },
  {
   "cell_type": "markdown",
   "metadata": {},
   "source": [
    "#### Load Dependencies"
   ]
  },
  {
   "cell_type": "code",
   "execution_count": 1,
   "metadata": {},
   "outputs": [],
   "source": [
    "%%capture\n",
    "!pip install nltk"
   ]
  },
  {
   "cell_type": "code",
   "execution_count": 2,
   "metadata": {
    "scrolled": true
   },
   "outputs": [
    {
     "name": "stderr",
     "output_type": "stream",
     "text": [
      "[nltk_data] Downloading package punkt to\n",
      "[nltk_data]     C:\\Users\\chung\\AppData\\Roaming\\nltk_data...\n",
      "[nltk_data]   Package punkt is already up-to-date!\n",
      "[nltk_data] Downloading package stopwords to\n",
      "[nltk_data]     C:\\Users\\chung\\AppData\\Roaming\\nltk_data...\n",
      "[nltk_data]   Package stopwords is already up-to-date!\n"
     ]
    },
    {
     "data": {
      "text/plain": [
       "True"
      ]
     },
     "execution_count": 2,
     "metadata": {},
     "output_type": "execute_result"
    }
   ],
   "source": [
    "import nltk\n",
    "nltk.download('punkt')\n",
    "nltk.download('stopwords')"
   ]
  },
  {
   "cell_type": "code",
   "execution_count": 3,
   "metadata": {},
   "outputs": [],
   "source": [
    "from nltk.stem import WordNetLemmatizer\n",
    "from nltk.corpus import stopwords\n",
    "from nltk import pos_tag, word_tokenize\n",
    "import sklearn\n",
    "from sklearn.model_selection import train_test_split\n",
    "from sklearn.feature_extraction.text import TfidfVectorizer\n",
    "from sklearn import svm\n",
    "from sklearn.metrics import confusion_matrix\n",
    "from sklearn.metrics import classification_report\n"
   ]
  },
  {
   "cell_type": "code",
   "execution_count": 4,
   "metadata": {},
   "outputs": [],
   "source": [
    "import pandas as pd\n",
    "import numpy as np"
   ]
  },
  {
   "cell_type": "markdown",
   "metadata": {},
   "source": [
    "### Data Exploration"
   ]
  },
  {
   "cell_type": "code",
   "execution_count": 5,
   "metadata": {},
   "outputs": [],
   "source": [
    "df = pd.read_csv(\"IMDB_Dataset.csv\")"
   ]
  },
  {
   "cell_type": "code",
   "execution_count": 6,
   "metadata": {},
   "outputs": [
    {
     "data": {
      "text/html": [
       "<div>\n",
       "<style scoped>\n",
       "    .dataframe tbody tr th:only-of-type {\n",
       "        vertical-align: middle;\n",
       "    }\n",
       "\n",
       "    .dataframe tbody tr th {\n",
       "        vertical-align: top;\n",
       "    }\n",
       "\n",
       "    .dataframe thead th {\n",
       "        text-align: right;\n",
       "    }\n",
       "</style>\n",
       "<table border=\"1\" class=\"dataframe\">\n",
       "  <thead>\n",
       "    <tr style=\"text-align: right;\">\n",
       "      <th></th>\n",
       "      <th>review</th>\n",
       "      <th>sentiment</th>\n",
       "    </tr>\n",
       "  </thead>\n",
       "  <tbody>\n",
       "    <tr>\n",
       "      <th>0</th>\n",
       "      <td>One of the other reviewers has mentioned that ...</td>\n",
       "      <td>positive</td>\n",
       "    </tr>\n",
       "    <tr>\n",
       "      <th>1</th>\n",
       "      <td>A wonderful little production. &lt;br /&gt;&lt;br /&gt;The...</td>\n",
       "      <td>positive</td>\n",
       "    </tr>\n",
       "    <tr>\n",
       "      <th>2</th>\n",
       "      <td>I thought this was a wonderful way to spend ti...</td>\n",
       "      <td>positive</td>\n",
       "    </tr>\n",
       "    <tr>\n",
       "      <th>3</th>\n",
       "      <td>Basically there's a family where a little boy ...</td>\n",
       "      <td>negative</td>\n",
       "    </tr>\n",
       "    <tr>\n",
       "      <th>4</th>\n",
       "      <td>Petter Mattei's \"Love in the Time of Money\" is...</td>\n",
       "      <td>positive</td>\n",
       "    </tr>\n",
       "  </tbody>\n",
       "</table>\n",
       "</div>"
      ],
      "text/plain": [
       "                                              review sentiment\n",
       "0  One of the other reviewers has mentioned that ...  positive\n",
       "1  A wonderful little production. <br /><br />The...  positive\n",
       "2  I thought this was a wonderful way to spend ti...  positive\n",
       "3  Basically there's a family where a little boy ...  negative\n",
       "4  Petter Mattei's \"Love in the Time of Money\" is...  positive"
      ]
     },
     "execution_count": 6,
     "metadata": {},
     "output_type": "execute_result"
    }
   ],
   "source": [
    "df.head()"
   ]
  },
  {
   "cell_type": "code",
   "execution_count": 7,
   "metadata": {},
   "outputs": [
    {
     "data": {
      "text/html": [
       "<div>\n",
       "<style scoped>\n",
       "    .dataframe tbody tr th:only-of-type {\n",
       "        vertical-align: middle;\n",
       "    }\n",
       "\n",
       "    .dataframe tbody tr th {\n",
       "        vertical-align: top;\n",
       "    }\n",
       "\n",
       "    .dataframe thead th {\n",
       "        text-align: right;\n",
       "    }\n",
       "</style>\n",
       "<table border=\"1\" class=\"dataframe\">\n",
       "  <thead>\n",
       "    <tr style=\"text-align: right;\">\n",
       "      <th></th>\n",
       "      <th>review</th>\n",
       "    </tr>\n",
       "    <tr>\n",
       "      <th>sentiment</th>\n",
       "      <th></th>\n",
       "    </tr>\n",
       "  </thead>\n",
       "  <tbody>\n",
       "    <tr>\n",
       "      <th>negative</th>\n",
       "      <td>25000</td>\n",
       "    </tr>\n",
       "    <tr>\n",
       "      <th>positive</th>\n",
       "      <td>25000</td>\n",
       "    </tr>\n",
       "  </tbody>\n",
       "</table>\n",
       "</div>"
      ],
      "text/plain": [
       "           review\n",
       "sentiment        \n",
       "negative    25000\n",
       "positive    25000"
      ]
     },
     "execution_count": 7,
     "metadata": {},
     "output_type": "execute_result"
    }
   ],
   "source": [
    "df.groupby('sentiment').count()"
   ]
  },
  {
   "cell_type": "markdown",
   "metadata": {},
   "source": [
    "The dataset is balanced with 25K each of positive and negative reviews"
   ]
  },
  {
   "cell_type": "markdown",
   "metadata": {},
   "source": [
    "### Data Pre-Processing"
   ]
  },
  {
   "cell_type": "code",
   "execution_count": 8,
   "metadata": {},
   "outputs": [],
   "source": [
    "# Change lower case\n",
    "\n",
    "def ChangeLower(msg):\n",
    "    # converting messages to lowercase\n",
    "    msg = msg.lower()\n",
    "    return msg\n",
    "\n",
    "df['review']=df['review'].apply(ChangeLower)"
   ]
  },
  {
   "cell_type": "code",
   "execution_count": 9,
   "metadata": {
    "scrolled": true
   },
   "outputs": [
    {
     "data": {
      "text/plain": [
       "0    one of the other reviewers has mentioned that ...\n",
       "1    a wonderful little production. <br /><br />the...\n",
       "2    i thought this was a wonderful way to spend ti...\n",
       "3    basically there's a family where a little boy ...\n",
       "4    petter mattei's \"love in the time of money\" is...\n",
       "Name: review, dtype: object"
      ]
     },
     "execution_count": 9,
     "metadata": {},
     "output_type": "execute_result"
    }
   ],
   "source": [
    "df['review'].head()"
   ]
  },
  {
   "cell_type": "markdown",
   "metadata": {},
   "source": [
    "#### Remove Stop Words"
   ]
  },
  {
   "cell_type": "code",
   "execution_count": 10,
   "metadata": {},
   "outputs": [],
   "source": [
    "stopwords = set(stopwords.words('english'))"
   ]
  },
  {
   "cell_type": "code",
   "execution_count": 11,
   "metadata": {},
   "outputs": [],
   "source": [
    "def RemoveStop (msg):\n",
    "    msg = [word for word in msg.split() if word not in stopwords]\n",
    "    return msg\n",
    "\n",
    "df['review']=df['review'].apply(RemoveStop)"
   ]
  },
  {
   "cell_type": "code",
   "execution_count": 12,
   "metadata": {},
   "outputs": [
    {
     "data": {
      "text/plain": [
       "0    [one, reviewers, mentioned, watching, 1, oz, e...\n",
       "1    [wonderful, little, production., <br, /><br, /...\n",
       "2    [thought, wonderful, way, spend, time, hot, su...\n",
       "3    [basically, there's, family, little, boy, (jak...\n",
       "4    [petter, mattei's, \"love, time, money\", visual...\n",
       "Name: review, dtype: object"
      ]
     },
     "execution_count": 12,
     "metadata": {},
     "output_type": "execute_result"
    }
   ],
   "source": [
    "df['review'].head()"
   ]
  },
  {
   "cell_type": "markdown",
   "metadata": {},
   "source": [
    "### Check for Most Common Words & Remove if not Meaninful"
   ]
  },
  {
   "cell_type": "code",
   "execution_count": 13,
   "metadata": {},
   "outputs": [
    {
     "data": {
      "text/plain": [
       "[('/><br', 100974),\n",
       " ('movie', 61492),\n",
       " ('film', 55086),\n",
       " ('one', 44983),\n",
       " ('like', 37281),\n",
       " ('would', 23807),\n",
       " ('even', 23681),\n",
       " ('good', 23467),\n",
       " ('really', 21805),\n",
       " ('see', 20901),\n",
       " ('-', 18201),\n",
       " ('get', 17689),\n",
       " ('much', 17278),\n",
       " ('story', 16810),\n",
       " ('also', 15743),\n",
       " ('time', 15657),\n",
       " ('great', 15465),\n",
       " ('first', 15455),\n",
       " ('make', 15028),\n",
       " ('people', 15028),\n",
       " ('could', 14927),\n",
       " ('/>the', 14702),\n",
       " ('made', 13562),\n",
       " ('bad', 13494),\n",
       " ('think', 13304),\n",
       " ('many', 12877),\n",
       " ('never', 12621),\n",
       " ('two', 12189),\n",
       " ('<br', 12028),\n",
       " ('little', 11827),\n",
       " ('well', 11692),\n",
       " ('watch', 11461),\n",
       " ('way', 11375),\n",
       " ('it.', 11169),\n",
       " ('know', 10784),\n",
       " ('movie.', 10764),\n",
       " ('love', 10748),\n",
       " ('best', 10743),\n",
       " ('seen', 10611),\n",
       " ('characters', 10599),\n",
       " ('character', 10386),\n",
       " ('movies', 10349),\n",
       " ('ever', 10218),\n",
       " ('still', 9778),\n",
       " ('films', 9578),\n",
       " ('plot', 9455),\n",
       " ('acting', 9378),\n",
       " ('show', 9376),\n",
       " ('better', 9045),\n",
       " ('film.', 8921),\n",
       " ('say', 8824),\n",
       " ('go', 8798),\n",
       " ('something', 8764),\n",
       " (\"i'm\", 8262),\n",
       " ('scene', 8235),\n",
       " ('makes', 8222),\n",
       " ('watching', 8146),\n",
       " ('film,', 8120),\n",
       " ('real', 8041),\n",
       " ('movie,', 8040),\n",
       " ('find', 8002),\n",
       " ('back', 7904),\n",
       " ('actually', 7798),\n",
       " ('scenes', 7797),\n",
       " ('every', 7791),\n",
       " ('going', 7659),\n",
       " ('man', 7659),\n",
       " ('life', 7570),\n",
       " ('new', 7502),\n",
       " ('/>i', 7498),\n",
       " ('nothing', 7417),\n",
       " ('look', 7409),\n",
       " ('another', 7379),\n",
       " ('lot', 7356),\n",
       " ('quite', 7120),\n",
       " ('thing', 7113),\n",
       " ('&', 7063),\n",
       " ('want', 7048),\n",
       " ('end', 6962),\n",
       " ('pretty', 6953),\n",
       " ('old', 6946),\n",
       " ('seems', 6860),\n",
       " (\"can't\", 6847),\n",
       " ('got', 6774),\n",
       " ('take', 6632),\n",
       " ('actors', 6612),\n",
       " ('give', 6556),\n",
       " ('years', 6517),\n",
       " ('part', 6515),\n",
       " ('may', 6390),\n",
       " ('young', 6340),\n",
       " (\"that's\", 6301),\n",
       " (\"i've\", 6247),\n",
       " ('us', 6241),\n",
       " ('without', 6202),\n",
       " ('big', 6198),\n",
       " ('thought', 6184),\n",
       " ('things', 6168),\n",
       " ('around', 6085),\n",
       " ('it,', 6068)]"
      ]
     },
     "execution_count": 13,
     "metadata": {},
     "output_type": "execute_result"
    }
   ],
   "source": [
    "from collections import Counter\n",
    "df['review']=df['review'].apply(lambda a: ' '.join(a))\n",
    "Counter(\" \".join(df[\"review\"]).split()).most_common(100)"
   ]
  },
  {
   "cell_type": "code",
   "execution_count": 14,
   "metadata": {},
   "outputs": [],
   "source": [
    "morewords ={\"i've\",'&','/>i',\"i'm\",'it.','<br','two','/>the','-','one','film','movie','/><br'}"
   ]
  },
  {
   "cell_type": "code",
   "execution_count": 15,
   "metadata": {},
   "outputs": [],
   "source": [
    "stopwords.update(morewords)"
   ]
  },
  {
   "cell_type": "code",
   "execution_count": 16,
   "metadata": {
    "scrolled": false
   },
   "outputs": [
    {
     "data": {
      "text/html": [
       "<div>\n",
       "<style scoped>\n",
       "    .dataframe tbody tr th:only-of-type {\n",
       "        vertical-align: middle;\n",
       "    }\n",
       "\n",
       "    .dataframe tbody tr th {\n",
       "        vertical-align: top;\n",
       "    }\n",
       "\n",
       "    .dataframe thead th {\n",
       "        text-align: right;\n",
       "    }\n",
       "</style>\n",
       "<table border=\"1\" class=\"dataframe\">\n",
       "  <thead>\n",
       "    <tr style=\"text-align: right;\">\n",
       "      <th></th>\n",
       "      <th>review</th>\n",
       "      <th>sentiment</th>\n",
       "    </tr>\n",
       "  </thead>\n",
       "  <tbody>\n",
       "    <tr>\n",
       "      <th>0</th>\n",
       "      <td>one reviewers mentioned watching 1 oz episode ...</td>\n",
       "      <td>positive</td>\n",
       "    </tr>\n",
       "    <tr>\n",
       "      <th>1</th>\n",
       "      <td>wonderful little production. &lt;br /&gt;&lt;br /&gt;the f...</td>\n",
       "      <td>positive</td>\n",
       "    </tr>\n",
       "    <tr>\n",
       "      <th>2</th>\n",
       "      <td>thought wonderful way spend time hot summer we...</td>\n",
       "      <td>positive</td>\n",
       "    </tr>\n",
       "    <tr>\n",
       "      <th>3</th>\n",
       "      <td>basically there's family little boy (jake) thi...</td>\n",
       "      <td>negative</td>\n",
       "    </tr>\n",
       "    <tr>\n",
       "      <th>4</th>\n",
       "      <td>petter mattei's \"love time money\" visually stu...</td>\n",
       "      <td>positive</td>\n",
       "    </tr>\n",
       "  </tbody>\n",
       "</table>\n",
       "</div>"
      ],
      "text/plain": [
       "                                              review sentiment\n",
       "0  one reviewers mentioned watching 1 oz episode ...  positive\n",
       "1  wonderful little production. <br /><br />the f...  positive\n",
       "2  thought wonderful way spend time hot summer we...  positive\n",
       "3  basically there's family little boy (jake) thi...  negative\n",
       "4  petter mattei's \"love time money\" visually stu...  positive"
      ]
     },
     "execution_count": 16,
     "metadata": {},
     "output_type": "execute_result"
    }
   ],
   "source": [
    "df.head()"
   ]
  },
  {
   "cell_type": "code",
   "execution_count": 17,
   "metadata": {
    "scrolled": true
   },
   "outputs": [],
   "source": [
    "def RemoveStop (msg):\n",
    "    msg = [word for word in msg.split() if word not in stopwords]\n",
    "    return msg\n",
    "\n",
    "df['review']=df['review'].apply(RemoveStop)"
   ]
  },
  {
   "cell_type": "markdown",
   "metadata": {},
   "source": [
    "#### Carry out a second scan of most common words & remove"
   ]
  },
  {
   "cell_type": "code",
   "execution_count": 18,
   "metadata": {},
   "outputs": [
    {
     "data": {
      "text/plain": [
       "[('like', 37281),\n",
       " ('would', 23807),\n",
       " ('even', 23681),\n",
       " ('good', 23467),\n",
       " ('really', 21805),\n",
       " ('see', 20901),\n",
       " ('get', 17689),\n",
       " ('much', 17278),\n",
       " ('story', 16810),\n",
       " ('also', 15743),\n",
       " ('time', 15657),\n",
       " ('great', 15465),\n",
       " ('first', 15455),\n",
       " ('make', 15028),\n",
       " ('people', 15028),\n",
       " ('could', 14927),\n",
       " ('made', 13562),\n",
       " ('bad', 13494),\n",
       " ('think', 13304),\n",
       " ('many', 12877),\n",
       " ('never', 12621),\n",
       " ('little', 11827),\n",
       " ('well', 11692),\n",
       " ('watch', 11461),\n",
       " ('way', 11375),\n",
       " ('know', 10784),\n",
       " ('movie.', 10764),\n",
       " ('love', 10748),\n",
       " ('best', 10743),\n",
       " ('seen', 10611),\n",
       " ('characters', 10599),\n",
       " ('character', 10386),\n",
       " ('movies', 10349),\n",
       " ('ever', 10218),\n",
       " ('still', 9778),\n",
       " ('films', 9578),\n",
       " ('plot', 9455),\n",
       " ('acting', 9378),\n",
       " ('show', 9376),\n",
       " ('better', 9045),\n",
       " ('film.', 8921),\n",
       " ('say', 8824),\n",
       " ('go', 8798),\n",
       " ('something', 8764),\n",
       " ('scene', 8235),\n",
       " ('makes', 8222),\n",
       " ('watching', 8146),\n",
       " ('film,', 8120),\n",
       " ('real', 8041),\n",
       " ('movie,', 8040),\n",
       " ('find', 8002),\n",
       " ('back', 7904),\n",
       " ('actually', 7798),\n",
       " ('scenes', 7797),\n",
       " ('every', 7791),\n",
       " ('going', 7659),\n",
       " ('man', 7659),\n",
       " ('life', 7570),\n",
       " ('new', 7502),\n",
       " ('nothing', 7417),\n",
       " ('look', 7409),\n",
       " ('another', 7379),\n",
       " ('lot', 7356),\n",
       " ('quite', 7120),\n",
       " ('thing', 7113),\n",
       " ('want', 7048),\n",
       " ('end', 6962),\n",
       " ('pretty', 6953),\n",
       " ('old', 6946),\n",
       " ('seems', 6860),\n",
       " (\"can't\", 6847),\n",
       " ('got', 6774),\n",
       " ('take', 6632),\n",
       " ('actors', 6612),\n",
       " ('give', 6556),\n",
       " ('years', 6517),\n",
       " ('part', 6515),\n",
       " ('may', 6390),\n",
       " ('young', 6340),\n",
       " (\"that's\", 6301),\n",
       " ('us', 6241),\n",
       " ('without', 6202),\n",
       " ('big', 6198),\n",
       " ('thought', 6184),\n",
       " ('things', 6168),\n",
       " ('around', 6085),\n",
       " ('it,', 6068),\n",
       " ('saw', 6051),\n",
       " ('gets', 6049),\n",
       " ('almost', 6020),\n",
       " ('must', 6004),\n",
       " ('though', 6000),\n",
       " ('director', 5960),\n",
       " ('always', 5898),\n",
       " ('whole', 5796),\n",
       " ('horror', 5766),\n",
       " ('come', 5765),\n",
       " ('work', 5689),\n",
       " ('might', 5653),\n",
       " (\"there's\", 5615)]"
      ]
     },
     "execution_count": 18,
     "metadata": {},
     "output_type": "execute_result"
    }
   ],
   "source": [
    "df['review']=df['review'].apply(lambda a: ' '.join(a))\n",
    "Counter(\" \".join(df[\"review\"]).split()).most_common(100)"
   ]
  },
  {
   "cell_type": "code",
   "execution_count": 19,
   "metadata": {},
   "outputs": [],
   "source": [
    "morewords={\"there's\",'it,''things','may',\"can't\",'seems','quite','thing','movie,','film,','something','film.','movies','character','characters','movie.','would'}"
   ]
  },
  {
   "cell_type": "code",
   "execution_count": 20,
   "metadata": {},
   "outputs": [],
   "source": [
    "stopwords.update(morewords)"
   ]
  },
  {
   "cell_type": "code",
   "execution_count": 21,
   "metadata": {},
   "outputs": [],
   "source": [
    "def RemoveStop (msg):\n",
    "    msg = [word for word in msg.split() if word not in stopwords]\n",
    "    return msg\n",
    "\n",
    "df['review']=df['review'].apply(RemoveStop)"
   ]
  },
  {
   "cell_type": "markdown",
   "metadata": {},
   "source": [
    "#### Final scan of most common words"
   ]
  },
  {
   "cell_type": "code",
   "execution_count": 22,
   "metadata": {},
   "outputs": [
    {
     "data": {
      "text/plain": [
       "[('like', 37281),\n",
       " ('even', 23681),\n",
       " ('good', 23467),\n",
       " ('really', 21805),\n",
       " ('see', 20901),\n",
       " ('get', 17689),\n",
       " ('much', 17278),\n",
       " ('story', 16810),\n",
       " ('also', 15743),\n",
       " ('time', 15657),\n",
       " ('great', 15465),\n",
       " ('first', 15455),\n",
       " ('make', 15028),\n",
       " ('people', 15028),\n",
       " ('could', 14927),\n",
       " ('made', 13562),\n",
       " ('bad', 13494),\n",
       " ('think', 13304),\n",
       " ('many', 12877),\n",
       " ('never', 12621),\n",
       " ('little', 11827),\n",
       " ('well', 11692),\n",
       " ('watch', 11461),\n",
       " ('way', 11375),\n",
       " ('know', 10784),\n",
       " ('love', 10748),\n",
       " ('best', 10743),\n",
       " ('seen', 10611),\n",
       " ('ever', 10218),\n",
       " ('still', 9778),\n",
       " ('films', 9578),\n",
       " ('plot', 9455),\n",
       " ('acting', 9378),\n",
       " ('show', 9376),\n",
       " ('better', 9045),\n",
       " ('say', 8824),\n",
       " ('go', 8798),\n",
       " ('scene', 8235),\n",
       " ('makes', 8222),\n",
       " ('watching', 8146),\n",
       " ('real', 8041),\n",
       " ('find', 8002),\n",
       " ('back', 7904),\n",
       " ('actually', 7798),\n",
       " ('scenes', 7797),\n",
       " ('every', 7791),\n",
       " ('going', 7659),\n",
       " ('man', 7659),\n",
       " ('life', 7570),\n",
       " ('new', 7502),\n",
       " ('nothing', 7417),\n",
       " ('look', 7409),\n",
       " ('another', 7379),\n",
       " ('lot', 7356),\n",
       " ('want', 7048),\n",
       " ('end', 6962),\n",
       " ('pretty', 6953),\n",
       " ('old', 6946),\n",
       " ('got', 6774),\n",
       " ('take', 6632),\n",
       " ('actors', 6612),\n",
       " ('give', 6556),\n",
       " ('years', 6517),\n",
       " ('part', 6515),\n",
       " ('young', 6340),\n",
       " (\"that's\", 6301),\n",
       " ('us', 6241),\n",
       " ('without', 6202),\n",
       " ('big', 6198),\n",
       " ('thought', 6184),\n",
       " ('things', 6168),\n",
       " ('around', 6085),\n",
       " ('it,', 6068),\n",
       " ('saw', 6051),\n",
       " ('gets', 6049),\n",
       " ('almost', 6020),\n",
       " ('must', 6004),\n",
       " ('though', 6000),\n",
       " ('director', 5960),\n",
       " ('always', 5898),\n",
       " ('whole', 5796),\n",
       " ('horror', 5766),\n",
       " ('come', 5765),\n",
       " ('work', 5689),\n",
       " ('might', 5653),\n",
       " ('\"the', 5592),\n",
       " ('cast', 5545),\n",
       " (\"he's\", 5476),\n",
       " ('enough', 5430),\n",
       " ('bit', 5404),\n",
       " ('probably', 5365),\n",
       " ('least', 5359),\n",
       " ('feel', 5316),\n",
       " ('last', 5277),\n",
       " ('since', 5267),\n",
       " ('long', 5254),\n",
       " ('far', 5205),\n",
       " ('funny', 5163),\n",
       " ('kind', 5094),\n",
       " ('rather', 5063)]"
      ]
     },
     "execution_count": 22,
     "metadata": {},
     "output_type": "execute_result"
    }
   ],
   "source": [
    "df['review']=df['review'].apply(lambda a: ' '.join(a))\n",
    "Counter(\" \".join(df[\"review\"]).split()).most_common(100)"
   ]
  },
  {
   "cell_type": "markdown",
   "metadata": {},
   "source": [
    "#### Final Scan of Data before next stage"
   ]
  },
  {
   "cell_type": "code",
   "execution_count": 23,
   "metadata": {},
   "outputs": [
    {
     "data": {
      "text/html": [
       "<div>\n",
       "<style scoped>\n",
       "    .dataframe tbody tr th:only-of-type {\n",
       "        vertical-align: middle;\n",
       "    }\n",
       "\n",
       "    .dataframe tbody tr th {\n",
       "        vertical-align: top;\n",
       "    }\n",
       "\n",
       "    .dataframe thead th {\n",
       "        text-align: right;\n",
       "    }\n",
       "</style>\n",
       "<table border=\"1\" class=\"dataframe\">\n",
       "  <thead>\n",
       "    <tr style=\"text-align: right;\">\n",
       "      <th></th>\n",
       "      <th>review</th>\n",
       "      <th>sentiment</th>\n",
       "    </tr>\n",
       "  </thead>\n",
       "  <tbody>\n",
       "    <tr>\n",
       "      <th>0</th>\n",
       "      <td>reviewers mentioned watching 1 oz episode hook...</td>\n",
       "      <td>positive</td>\n",
       "    </tr>\n",
       "    <tr>\n",
       "      <th>1</th>\n",
       "      <td>wonderful little production. filming technique...</td>\n",
       "      <td>positive</td>\n",
       "    </tr>\n",
       "    <tr>\n",
       "      <th>2</th>\n",
       "      <td>thought wonderful way spend time hot summer we...</td>\n",
       "      <td>positive</td>\n",
       "    </tr>\n",
       "    <tr>\n",
       "      <th>3</th>\n",
       "      <td>basically family little boy (jake) thinks zomb...</td>\n",
       "      <td>negative</td>\n",
       "    </tr>\n",
       "    <tr>\n",
       "      <th>4</th>\n",
       "      <td>petter mattei's \"love time money\" visually stu...</td>\n",
       "      <td>positive</td>\n",
       "    </tr>\n",
       "  </tbody>\n",
       "</table>\n",
       "</div>"
      ],
      "text/plain": [
       "                                              review sentiment\n",
       "0  reviewers mentioned watching 1 oz episode hook...  positive\n",
       "1  wonderful little production. filming technique...  positive\n",
       "2  thought wonderful way spend time hot summer we...  positive\n",
       "3  basically family little boy (jake) thinks zomb...  negative\n",
       "4  petter mattei's \"love time money\" visually stu...  positive"
      ]
     },
     "execution_count": 23,
     "metadata": {},
     "output_type": "execute_result"
    }
   ],
   "source": [
    "df.head()"
   ]
  },
  {
   "cell_type": "markdown",
   "metadata": {},
   "source": [
    "### Set up Data"
   ]
  },
  {
   "cell_type": "code",
   "execution_count": 24,
   "metadata": {},
   "outputs": [],
   "source": [
    "X_train_raw, X_test_raw, y_train, y_test = train_test_split(df['review'], df['sentiment'], test_size=0.2)"
   ]
  },
  {
   "cell_type": "code",
   "execution_count": 25,
   "metadata": {},
   "outputs": [],
   "source": [
    "### STEP 2 - Declare Features Vectors to use\n",
    "### Create TfidfVectorizer.\n",
    "\n",
    "vectorizer = TfidfVectorizer()\n",
    "\n",
    "### STEP 3 - Fit and transform.\n",
    "### Note there's no need to create TF-IDF vectors for y - labels\n",
    "\n",
    "X_train = vectorizer.fit_transform(X_train_raw)\n",
    "\n",
    "### Note vectorizer was fitted prior in X_train process\n",
    "X_test = vectorizer.transform(X_test_raw)"
   ]
  },
  {
   "cell_type": "markdown",
   "metadata": {},
   "source": [
    "### Training & Evaluation"
   ]
  },
  {
   "cell_type": "markdown",
   "metadata": {},
   "source": [
    "#### 1. Logistic Regression"
   ]
  },
  {
   "cell_type": "code",
   "execution_count": 26,
   "metadata": {},
   "outputs": [],
   "source": [
    "from sklearn.linear_model import LogisticRegression\n",
    "\n",
    "### STEP 4 - Prediction\n",
    "### Create and run Classifier\n",
    "\n",
    "classifier = LogisticRegression()\n",
    "\n",
    "### Fitting requires training TF_IDF vectors and labels\n",
    "classifier.fit(X_train, y_train)\n",
    "\n",
    "### X_test is the transformed test TF-IDF vectors\n",
    "predictions = classifier.predict(X_test)"
   ]
  },
  {
   "cell_type": "code",
   "execution_count": 27,
   "metadata": {},
   "outputs": [
    {
     "name": "stdout",
     "output_type": "stream",
     "text": [
      "[[4409  590]\n",
      " [ 414 4587]]\n",
      "              precision    recall  f1-score   support\n",
      "\n",
      "    negative       0.91      0.88      0.90      4999\n",
      "    positive       0.89      0.92      0.90      5001\n",
      "\n",
      "    accuracy                           0.90     10000\n",
      "   macro avg       0.90      0.90      0.90     10000\n",
      "weighted avg       0.90      0.90      0.90     10000\n",
      "\n"
     ]
    }
   ],
   "source": [
    "# testing against testing set \n",
    "\n",
    "y_pred = classifier.predict(X_test)\n",
    "print(confusion_matrix(y_test, y_pred))\n",
    "\n",
    "print(classification_report(y_test,y_pred))"
   ]
  },
  {
   "cell_type": "markdown",
   "metadata": {},
   "source": [
    "#### 2. Naive Bayes"
   ]
  },
  {
   "cell_type": "code",
   "execution_count": 28,
   "metadata": {},
   "outputs": [],
   "source": [
    "from sklearn.naive_bayes import MultinomialNB\n",
    "\n",
    "### STEP 4 - Prediction\n",
    "### Create and run Classifier\n",
    "\n",
    "classifierNB = MultinomialNB()\n",
    "\n",
    "### Fitting requires training TF_IDF vectors and labels\n",
    "classifierNB.fit(X_train, y_train)\n",
    "\n",
    "### X_test is the transformed test TF-IDF vectors\n",
    "predictions = classifierNB.predict(X_test)"
   ]
  },
  {
   "cell_type": "code",
   "execution_count": 29,
   "metadata": {},
   "outputs": [
    {
     "name": "stdout",
     "output_type": "stream",
     "text": [
      "[[4382  617]\n",
      " [ 714 4287]]\n",
      "              precision    recall  f1-score   support\n",
      "\n",
      "    negative       0.86      0.88      0.87      4999\n",
      "    positive       0.87      0.86      0.87      5001\n",
      "\n",
      "    accuracy                           0.87     10000\n",
      "   macro avg       0.87      0.87      0.87     10000\n",
      "weighted avg       0.87      0.87      0.87     10000\n",
      "\n"
     ]
    }
   ],
   "source": [
    "y_pred = classifierNB.predict(X_test)\n",
    "print(confusion_matrix(y_test, y_pred))\n",
    "\n",
    "print(classification_report(y_test,y_pred))"
   ]
  },
  {
   "cell_type": "markdown",
   "metadata": {},
   "source": [
    "#### 3. Support Vector Machine"
   ]
  },
  {
   "cell_type": "code",
   "execution_count": 30,
   "metadata": {},
   "outputs": [],
   "source": [
    "from sklearn.svm import LinearSVC\n",
    "\n",
    "### STEP 4 - Prediction\n",
    "### Create and run Classifier\n",
    "\n",
    "classifierSVC = LinearSVC()\n",
    "\n",
    "### Fitting requires training TF_IDF vectors and labels\n",
    "classifierSVC.fit(X_train, y_train)\n",
    "\n",
    "### X_test is the transformed test TF-IDF vectors\n",
    "predictions = classifierSVC.predict(X_test)"
   ]
  },
  {
   "cell_type": "code",
   "execution_count": 31,
   "metadata": {
    "scrolled": true
   },
   "outputs": [
    {
     "name": "stdout",
     "output_type": "stream",
     "text": [
      "[[4419  580]\n",
      " [ 444 4557]]\n",
      "              precision    recall  f1-score   support\n",
      "\n",
      "    negative       0.91      0.88      0.90      4999\n",
      "    positive       0.89      0.91      0.90      5001\n",
      "\n",
      "    accuracy                           0.90     10000\n",
      "   macro avg       0.90      0.90      0.90     10000\n",
      "weighted avg       0.90      0.90      0.90     10000\n",
      "\n"
     ]
    }
   ],
   "source": [
    "y_pred = classifierSVC.predict(X_test)\n",
    "print(confusion_matrix(y_test, y_pred))\n",
    "\n",
    "print(classification_report(y_test,y_pred))"
   ]
  },
  {
   "cell_type": "markdown",
   "metadata": {},
   "source": [
    "#### SVM gives the best results at 0.9 accuracy, precision & recall"
   ]
  },
  {
   "cell_type": "markdown",
   "metadata": {},
   "source": [
    "### Explore Prediction Output of Best Algorithm of SVM"
   ]
  },
  {
   "cell_type": "code",
   "execution_count": 32,
   "metadata": {},
   "outputs": [
    {
     "data": {
      "text/plain": [
       "46331    hey guys girls! ever rent, god forbid, buy pie...\n",
       "13679    wonderful \"revenge\" everyone wakes morning bel...\n",
       "11177    timeless proverb reverberates heart. many year...\n",
       "14515    hate show poorly leads written. women self-res...\n",
       "46263    okay, guess pretty much fan spindled, mutilate...\n",
       "Name: review, dtype: object"
      ]
     },
     "execution_count": 32,
     "metadata": {},
     "output_type": "execute_result"
    }
   ],
   "source": [
    "X_test_raw.head()"
   ]
  },
  {
   "cell_type": "code",
   "execution_count": 69,
   "metadata": {},
   "outputs": [
    {
     "data": {
      "text/plain": [
       "(10000,)"
      ]
     },
     "execution_count": 69,
     "metadata": {},
     "output_type": "execute_result"
    }
   ],
   "source": [
    "X_test_raw.shape"
   ]
  },
  {
   "cell_type": "code",
   "execution_count": 34,
   "metadata": {},
   "outputs": [
    {
     "data": {
      "text/plain": [
       "46331    negative\n",
       "13679    negative\n",
       "11177    positive\n",
       "14515    negative\n",
       "46263    negative\n",
       "Name: sentiment, dtype: object"
      ]
     },
     "execution_count": 34,
     "metadata": {},
     "output_type": "execute_result"
    }
   ],
   "source": [
    "y_test.head()"
   ]
  },
  {
   "cell_type": "code",
   "execution_count": 70,
   "metadata": {},
   "outputs": [
    {
     "data": {
      "text/plain": [
       "(10000,)"
      ]
     },
     "execution_count": 70,
     "metadata": {},
     "output_type": "execute_result"
    }
   ],
   "source": [
    "y_pred.shape"
   ]
  },
  {
   "cell_type": "code",
   "execution_count": 71,
   "metadata": {},
   "outputs": [
    {
     "data": {
      "text/plain": [
       "(10000,)"
      ]
     },
     "execution_count": 71,
     "metadata": {},
     "output_type": "execute_result"
    }
   ],
   "source": [
    "y_test.shape"
   ]
  },
  {
   "cell_type": "markdown",
   "metadata": {},
   "source": [
    "#### Create new dataframe with review, actual & predicted labels"
   ]
  },
  {
   "cell_type": "code",
   "execution_count": 77,
   "metadata": {},
   "outputs": [],
   "source": [
    "df2 = pd.DataFrame(data = X_test_raw)"
   ]
  },
  {
   "cell_type": "code",
   "execution_count": 78,
   "metadata": {},
   "outputs": [],
   "source": [
    "df2['truth']=pd.DataFrame(data=y_test)"
   ]
  },
  {
   "cell_type": "code",
   "execution_count": 79,
   "metadata": {},
   "outputs": [],
   "source": [
    "c = y_pred.reshape((10000,1))\n",
    "df2['predict']=c"
   ]
  },
  {
   "cell_type": "code",
   "execution_count": 80,
   "metadata": {},
   "outputs": [
    {
     "data": {
      "text/html": [
       "<div>\n",
       "<style scoped>\n",
       "    .dataframe tbody tr th:only-of-type {\n",
       "        vertical-align: middle;\n",
       "    }\n",
       "\n",
       "    .dataframe tbody tr th {\n",
       "        vertical-align: top;\n",
       "    }\n",
       "\n",
       "    .dataframe thead th {\n",
       "        text-align: right;\n",
       "    }\n",
       "</style>\n",
       "<table border=\"1\" class=\"dataframe\">\n",
       "  <thead>\n",
       "    <tr style=\"text-align: right;\">\n",
       "      <th></th>\n",
       "      <th>review</th>\n",
       "      <th>truth</th>\n",
       "      <th>predict</th>\n",
       "    </tr>\n",
       "  </thead>\n",
       "  <tbody>\n",
       "    <tr>\n",
       "      <th>46331</th>\n",
       "      <td>hey guys girls! ever rent, god forbid, buy pie...</td>\n",
       "      <td>negative</td>\n",
       "      <td>negative</td>\n",
       "    </tr>\n",
       "    <tr>\n",
       "      <th>13679</th>\n",
       "      <td>wonderful \"revenge\" everyone wakes morning bel...</td>\n",
       "      <td>negative</td>\n",
       "      <td>negative</td>\n",
       "    </tr>\n",
       "    <tr>\n",
       "      <th>11177</th>\n",
       "      <td>timeless proverb reverberates heart. many year...</td>\n",
       "      <td>positive</td>\n",
       "      <td>positive</td>\n",
       "    </tr>\n",
       "    <tr>\n",
       "      <th>14515</th>\n",
       "      <td>hate show poorly leads written. women self-res...</td>\n",
       "      <td>negative</td>\n",
       "      <td>negative</td>\n",
       "    </tr>\n",
       "    <tr>\n",
       "      <th>46263</th>\n",
       "      <td>okay, guess pretty much fan spindled, mutilate...</td>\n",
       "      <td>negative</td>\n",
       "      <td>negative</td>\n",
       "    </tr>\n",
       "  </tbody>\n",
       "</table>\n",
       "</div>"
      ],
      "text/plain": [
       "                                                  review     truth   predict\n",
       "46331  hey guys girls! ever rent, god forbid, buy pie...  negative  negative\n",
       "13679  wonderful \"revenge\" everyone wakes morning bel...  negative  negative\n",
       "11177  timeless proverb reverberates heart. many year...  positive  positive\n",
       "14515  hate show poorly leads written. women self-res...  negative  negative\n",
       "46263  okay, guess pretty much fan spindled, mutilate...  negative  negative"
      ]
     },
     "execution_count": 80,
     "metadata": {},
     "output_type": "execute_result"
    }
   ],
   "source": [
    "df2.head()"
   ]
  },
  {
   "cell_type": "markdown",
   "metadata": {},
   "source": [
    "#### Create Dataframe of mis-labelled items"
   ]
  },
  {
   "cell_type": "code",
   "execution_count": 81,
   "metadata": {},
   "outputs": [],
   "source": [
    "df3 = df2[df2['truth']!=df2['predict']]"
   ]
  },
  {
   "cell_type": "code",
   "execution_count": 82,
   "metadata": {},
   "outputs": [
    {
     "data": {
      "text/html": [
       "<div>\n",
       "<style scoped>\n",
       "    .dataframe tbody tr th:only-of-type {\n",
       "        vertical-align: middle;\n",
       "    }\n",
       "\n",
       "    .dataframe tbody tr th {\n",
       "        vertical-align: top;\n",
       "    }\n",
       "\n",
       "    .dataframe thead th {\n",
       "        text-align: right;\n",
       "    }\n",
       "</style>\n",
       "<table border=\"1\" class=\"dataframe\">\n",
       "  <thead>\n",
       "    <tr style=\"text-align: right;\">\n",
       "      <th></th>\n",
       "      <th>review</th>\n",
       "      <th>truth</th>\n",
       "      <th>predict</th>\n",
       "    </tr>\n",
       "  </thead>\n",
       "  <tbody>\n",
       "    <tr>\n",
       "      <th>14351</th>\n",
       "      <td>think great movie!! fun, maybe little unrealis...</td>\n",
       "      <td>negative</td>\n",
       "      <td>positive</td>\n",
       "    </tr>\n",
       "    <tr>\n",
       "      <th>9768</th>\n",
       "      <td>viewing, please make sure seen night living de...</td>\n",
       "      <td>positive</td>\n",
       "      <td>negative</td>\n",
       "    </tr>\n",
       "    <tr>\n",
       "      <th>23280</th>\n",
       "      <td>...out movie.&lt;br /&gt;sorry say, showed cleveland...</td>\n",
       "      <td>negative</td>\n",
       "      <td>positive</td>\n",
       "    </tr>\n",
       "    <tr>\n",
       "      <th>44259</th>\n",
       "      <td>ok start? saw screening couple weeks ago shock...</td>\n",
       "      <td>negative</td>\n",
       "      <td>positive</td>\n",
       "    </tr>\n",
       "    <tr>\n",
       "      <th>10914</th>\n",
       "      <td>gets score 3 dared different. features cast ac...</td>\n",
       "      <td>negative</td>\n",
       "      <td>positive</td>\n",
       "    </tr>\n",
       "  </tbody>\n",
       "</table>\n",
       "</div>"
      ],
      "text/plain": [
       "                                                  review     truth   predict\n",
       "14351  think great movie!! fun, maybe little unrealis...  negative  positive\n",
       "9768   viewing, please make sure seen night living de...  positive  negative\n",
       "23280  ...out movie.<br />sorry say, showed cleveland...  negative  positive\n",
       "44259  ok start? saw screening couple weeks ago shock...  negative  positive\n",
       "10914  gets score 3 dared different. features cast ac...  negative  positive"
      ]
     },
     "execution_count": 82,
     "metadata": {},
     "output_type": "execute_result"
    }
   ],
   "source": [
    "df3.head()"
   ]
  },
  {
   "cell_type": "markdown",
   "metadata": {},
   "source": [
    "#### Total Mis-labelled items 1024 is consistent with Confusion Matrix items"
   ]
  },
  {
   "cell_type": "code",
   "execution_count": 83,
   "metadata": {},
   "outputs": [
    {
     "data": {
      "text/plain": [
       "review     1024\n",
       "truth      1024\n",
       "predict    1024\n",
       "dtype: int64"
      ]
     },
     "execution_count": 83,
     "metadata": {},
     "output_type": "execute_result"
    }
   ],
   "source": [
    "df3.count()"
   ]
  },
  {
   "cell_type": "markdown",
   "metadata": {},
   "source": [
    "#### First Item: Actual Negative, Predict Positive "
   ]
  },
  {
   "cell_type": "code",
   "execution_count": 84,
   "metadata": {
    "scrolled": true
   },
   "outputs": [
    {
     "data": {
      "text/plain": [
       "'think great movie!! fun, maybe little unrealistic, fun dramatic!! like see again, showing tv!! 1 question: still talking movie???'"
      ]
     },
     "execution_count": 84,
     "metadata": {},
     "output_type": "execute_result"
    }
   ],
   "source": [
    "df3.iloc[0,0]"
   ]
  },
  {
   "cell_type": "markdown",
   "metadata": {},
   "source": [
    "#### Second Item: Actual Positive, Predict Negative"
   ]
  },
  {
   "cell_type": "code",
   "execution_count": 86,
   "metadata": {},
   "outputs": [
    {
     "data": {
      "text/plain": [
       "\"viewing, please make sure seen night living dead... might well best 7 minute parody ever seen! absurd, crappy 'special effects' (the rope, rope!!!), maneating slices bread... need???<br />(do watch eating bread... might get scared!)\""
      ]
     },
     "execution_count": 86,
     "metadata": {},
     "output_type": "execute_result"
    }
   ],
   "source": [
    "df3.iloc[1,0]"
   ]
  },
  {
   "cell_type": "markdown",
   "metadata": {},
   "source": [
    "#### Third Item: Actual Negative, Predict Positive "
   ]
  },
  {
   "cell_type": "code",
   "execution_count": 87,
   "metadata": {
    "scrolled": true
   },
   "outputs": [
    {
     "data": {
      "text/plain": [
       "'...out movie.<br />sorry say, showed cleveland international festival. copy subtitles, asked festival crew problem print received. \"not so...\" told. \"the director wants way\". />again, sorry say, french barely high school elective level (more 3 decades ago). much initial dialog french, sure missed nuance many details understanding key words. />i\\'ve rated \"1\", primarily irony director worked subtitles refusing put subtitles seen american audience. excuse me, even americans know europe map, even festival audience assumed know \"the native language\" given even us know finnish, still expect subtitles \"dolts\" sophisticated enough expertise 37 different languages presented. i\\'ll put ego david lynch, litvack.'"
      ]
     },
     "execution_count": 87,
     "metadata": {},
     "output_type": "execute_result"
    }
   ],
   "source": [
    "df3.iloc[2,0]"
   ]
  },
  {
   "cell_type": "code",
   "execution_count": null,
   "metadata": {},
   "outputs": [],
   "source": []
  }
 ],
 "metadata": {
  "kernelspec": {
   "display_name": "Python 3",
   "language": "python",
   "name": "python3"
  },
  "language_info": {
   "codemirror_mode": {
    "name": "ipython",
    "version": 3
   },
   "file_extension": ".py",
   "mimetype": "text/x-python",
   "name": "python",
   "nbconvert_exporter": "python",
   "pygments_lexer": "ipython3",
   "version": "3.8.5"
  }
 },
 "nbformat": 4,
 "nbformat_minor": 4
}
